{
 "cells": [
  {
   "cell_type": "markdown",
   "metadata": {},
   "source": [
    "Imports"
   ]
  },
  {
   "cell_type": "code",
   "execution_count": 19,
   "metadata": {},
   "outputs": [],
   "source": [
    "import pandas as pd\n",
    "import numpy as np\n",
    "import tensorflow as tf\n",
    "tf.gfile = tf.io.gfile\n",
    "import tensorflow_hub as hub\n",
    "import tensorflow_text as text\n",
    "from bert import tokenization\n",
    "from sklearn.utils import resample\n",
    "from sklearn.preprocessing import LabelEncoder\n",
    "from sklearn.metrics.pairwise import cosine_similarity\n",
    "from sklearn.model_selection import train_test_split\n",
    "import matplotlib.pyplot as plt\n",
    "from tensorflow import keras\n",
    "import requests, json"
   ]
  },
  {
   "cell_type": "markdown",
   "metadata": {},
   "source": [
    "Read in data and make it into a pd dataframe so that it is readable and useable"
   ]
  },
  {
   "cell_type": "code",
   "execution_count": 2,
   "metadata": {},
   "outputs": [],
   "source": [
    "response = requests.get(\"http://127.0.0.1:5000/data\")\n",
    "dataVals = response.json()\n",
    "data = dataVals.get(\"data\")[0][1]"
   ]
  },
  {
   "cell_type": "code",
   "execution_count": 3,
   "metadata": {},
   "outputs": [
    {
     "data": {
      "text/html": [
       "<div>\n",
       "<style scoped>\n",
       "    .dataframe tbody tr th:only-of-type {\n",
       "        vertical-align: middle;\n",
       "    }\n",
       "\n",
       "    .dataframe tbody tr th {\n",
       "        vertical-align: top;\n",
       "    }\n",
       "\n",
       "    .dataframe thead th {\n",
       "        text-align: right;\n",
       "    }\n",
       "</style>\n",
       "<table border=\"1\" class=\"dataframe\">\n",
       "  <thead>\n",
       "    <tr style=\"text-align: right;\">\n",
       "      <th></th>\n",
       "      <th>Sentence</th>\n",
       "      <th>Condition</th>\n",
       "    </tr>\n",
       "  </thead>\n",
       "  <tbody>\n",
       "  </tbody>\n",
       "</table>\n",
       "</div>"
      ],
      "text/plain": [
       "Empty DataFrame\n",
       "Columns: [Sentence, Condition]\n",
       "Index: []"
      ]
     },
     "execution_count": 3,
     "metadata": {},
     "output_type": "execute_result"
    }
   ],
   "source": [
    "dfWhole = pd.DataFrame(columns=[\"Sentence\",\"Condition\"])\n",
    "dfWhole"
   ]
  },
  {
   "cell_type": "code",
   "execution_count": 4,
   "metadata": {},
   "outputs": [],
   "source": [
    "for condition in list(data.keys()):\n",
    "    for sentence in data.get(condition):\n",
    "        dfWhole.loc[len(dfWhole.index)] = [sentence,condition] "
   ]
  },
  {
   "cell_type": "code",
   "execution_count": 5,
   "metadata": {},
   "outputs": [
    {
     "data": {
      "text/html": [
       "<div>\n",
       "<style scoped>\n",
       "    .dataframe tbody tr th:only-of-type {\n",
       "        vertical-align: middle;\n",
       "    }\n",
       "\n",
       "    .dataframe tbody tr th {\n",
       "        vertical-align: top;\n",
       "    }\n",
       "\n",
       "    .dataframe thead th {\n",
       "        text-align: right;\n",
       "    }\n",
       "</style>\n",
       "<table border=\"1\" class=\"dataframe\">\n",
       "  <thead>\n",
       "    <tr style=\"text-align: right;\">\n",
       "      <th></th>\n",
       "      <th>Sentence</th>\n",
       "      <th>Condition</th>\n",
       "    </tr>\n",
       "  </thead>\n",
       "  <tbody>\n",
       "    <tr>\n",
       "      <th>0</th>\n",
       "      <td>spinning movements but i also feel unsteadines...</td>\n",
       "      <td>(vertigo) Paroymsal  Positional Vertigo</td>\n",
       "    </tr>\n",
       "    <tr>\n",
       "      <th>1</th>\n",
       "      <td>spinning movements loss of balance spinning mo...</td>\n",
       "      <td>(vertigo) Paroymsal  Positional Vertigo</td>\n",
       "    </tr>\n",
       "    <tr>\n",
       "      <th>2</th>\n",
       "      <td>spinning movements vomiting i feel like headac...</td>\n",
       "      <td>(vertigo) Paroymsal  Positional Vertigo</td>\n",
       "    </tr>\n",
       "    <tr>\n",
       "      <th>3</th>\n",
       "      <td>spinning movements unsteadiness headache and i...</td>\n",
       "      <td>(vertigo) Paroymsal  Positional Vertigo</td>\n",
       "    </tr>\n",
       "    <tr>\n",
       "      <th>4</th>\n",
       "      <td>spinning movements vomiting i also feel like u...</td>\n",
       "      <td>(vertigo) Paroymsal  Positional Vertigo</td>\n",
       "    </tr>\n",
       "    <tr>\n",
       "      <th>...</th>\n",
       "      <td>...</td>\n",
       "      <td>...</td>\n",
       "    </tr>\n",
       "    <tr>\n",
       "      <th>161395</th>\n",
       "      <td>urine and i also feel like abdominal pain loss...</td>\n",
       "      <td>hepatitis A</td>\n",
       "    </tr>\n",
       "    <tr>\n",
       "      <th>161396</th>\n",
       "      <td>urine yellowing of appetite vomiting but i als...</td>\n",
       "      <td>hepatitis A</td>\n",
       "    </tr>\n",
       "    <tr>\n",
       "      <th>161397</th>\n",
       "      <td>urine diarrhoea joint pain and i feel joint pa...</td>\n",
       "      <td>hepatitis A</td>\n",
       "    </tr>\n",
       "    <tr>\n",
       "      <th>161398</th>\n",
       "      <td>urine vomiting yellowish skin mild fever but i...</td>\n",
       "      <td>hepatitis A</td>\n",
       "    </tr>\n",
       "    <tr>\n",
       "      <th>161399</th>\n",
       "      <td>urine vomiting loss of eyes i feel like yellow...</td>\n",
       "      <td>hepatitis A</td>\n",
       "    </tr>\n",
       "  </tbody>\n",
       "</table>\n",
       "<p>161400 rows × 2 columns</p>\n",
       "</div>"
      ],
      "text/plain": [
       "                                                 Sentence  \\\n",
       "0       spinning movements but i also feel unsteadines...   \n",
       "1       spinning movements loss of balance spinning mo...   \n",
       "2       spinning movements vomiting i feel like headac...   \n",
       "3       spinning movements unsteadiness headache and i...   \n",
       "4       spinning movements vomiting i also feel like u...   \n",
       "...                                                   ...   \n",
       "161395  urine and i also feel like abdominal pain loss...   \n",
       "161396  urine yellowing of appetite vomiting but i als...   \n",
       "161397  urine diarrhoea joint pain and i feel joint pa...   \n",
       "161398  urine vomiting yellowish skin mild fever but i...   \n",
       "161399  urine vomiting loss of eyes i feel like yellow...   \n",
       "\n",
       "                                      Condition  \n",
       "0       (vertigo) Paroymsal  Positional Vertigo  \n",
       "1       (vertigo) Paroymsal  Positional Vertigo  \n",
       "2       (vertigo) Paroymsal  Positional Vertigo  \n",
       "3       (vertigo) Paroymsal  Positional Vertigo  \n",
       "4       (vertigo) Paroymsal  Positional Vertigo  \n",
       "...                                         ...  \n",
       "161395                              hepatitis A  \n",
       "161396                              hepatitis A  \n",
       "161397                              hepatitis A  \n",
       "161398                              hepatitis A  \n",
       "161399                              hepatitis A  \n",
       "\n",
       "[161400 rows x 2 columns]"
      ]
     },
     "execution_count": 5,
     "metadata": {},
     "output_type": "execute_result"
    }
   ],
   "source": [
    "dfWhole"
   ]
  },
  {
   "cell_type": "markdown",
   "metadata": {},
   "source": [
    "Now that we have the data in a dataframe format, we can work with the preprocessing and model"
   ]
  },
  {
   "cell_type": "code",
   "execution_count": 6,
   "metadata": {},
   "outputs": [],
   "source": [
    "dfCopy = dfWhole.copy()\n",
    "features = dfCopy[\"Sentence\"]\n",
    "label = dfCopy[\"Condition\"]\n",
    "\n",
    "le = LabelEncoder()\n",
    "le.fit(label)\n",
    "encoded_mapping = dict(zip(le.classes_, le.transform(le.classes_)))\n",
    "encoded_diseases = le.transform(label)"
   ]
  },
  {
   "cell_type": "code",
   "execution_count": 37,
   "metadata": {},
   "outputs": [],
   "source": [
    "encoded_mapping = {'(vertigo) Paroymsal  Positional Vertigo': 0,\n",
    " 'AIDS': 1,\n",
    " 'Acne': 2,\n",
    " 'Alcoholic hepatitis': 3,\n",
    " 'Allergy': 4,\n",
    " 'Arthritis': 5,\n",
    " 'Bronchial Asthma': 6,\n",
    " 'Cervical spondylosis': 7,\n",
    " 'Chicken pox': 8,\n",
    " 'Chronic cholestasis': 9,\n",
    " 'Common Cold': 10,\n",
    " 'Dengue': 11,\n",
    " 'Diabetes ': 12,\n",
    " 'Dimorphic hemmorhoids(piles)': 13,\n",
    " 'Drug Reaction': 14,\n",
    " 'Fungal infection': 15,\n",
    " 'GERD': 16,\n",
    " 'Gastroenteritis': 17,\n",
    " 'Heart attack': 18,\n",
    " 'Hepatitis B': 19,\n",
    " 'Hepatitis C': 20,\n",
    " 'Hepatitis D': 21,\n",
    " 'Hepatitis E': 22,\n",
    " 'Hypertension ': 23,\n",
    " 'Hyperthyroidism': 24,\n",
    " 'Hypoglycemia': 25,\n",
    " 'Hypothyroidism': 26,\n",
    " 'Impetigo': 27,\n",
    " 'Jaundice': 28,\n",
    " 'Malaria': 29,\n",
    " 'Migraine': 30,\n",
    " 'Osteoarthristis': 31,\n",
    " 'Paralysis (brain hemorrhage)': 32,\n",
    " 'Peptic ulcer diseae': 33,\n",
    " 'Pneumonia': 34,\n",
    " 'Psoriasis': 35,\n",
    " 'Tuberculosis': 36,\n",
    " 'Typhoid': 37,\n",
    " 'Urinary tract infection': 38,\n",
    " 'Varicose veins': 39,\n",
    " 'hepatitis A': 40}"
   ]
  },
  {
   "cell_type": "code",
   "execution_count": 38,
   "metadata": {},
   "outputs": [],
   "source": [
    "encoded_mapping2 = {}\n",
    "\n",
    "for condition in list(encoded_mapping.keys()):\n",
    "    encoded_mapping2[encoded_mapping.get(condition)] = condition"
   ]
  },
  {
   "cell_type": "code",
   "execution_count": 39,
   "metadata": {},
   "outputs": [
    {
     "data": {
      "text/plain": [
       "{0: '(vertigo) Paroymsal  Positional Vertigo',\n",
       " 1: 'AIDS',\n",
       " 2: 'Acne',\n",
       " 3: 'Alcoholic hepatitis',\n",
       " 4: 'Allergy',\n",
       " 5: 'Arthritis',\n",
       " 6: 'Bronchial Asthma',\n",
       " 7: 'Cervical spondylosis',\n",
       " 8: 'Chicken pox',\n",
       " 9: 'Chronic cholestasis',\n",
       " 10: 'Common Cold',\n",
       " 11: 'Dengue',\n",
       " 12: 'Diabetes ',\n",
       " 13: 'Dimorphic hemmorhoids(piles)',\n",
       " 14: 'Drug Reaction',\n",
       " 15: 'Fungal infection',\n",
       " 16: 'GERD',\n",
       " 17: 'Gastroenteritis',\n",
       " 18: 'Heart attack',\n",
       " 19: 'Hepatitis B',\n",
       " 20: 'Hepatitis C',\n",
       " 21: 'Hepatitis D',\n",
       " 22: 'Hepatitis E',\n",
       " 23: 'Hypertension ',\n",
       " 24: 'Hyperthyroidism',\n",
       " 25: 'Hypoglycemia',\n",
       " 26: 'Hypothyroidism',\n",
       " 27: 'Impetigo',\n",
       " 28: 'Jaundice',\n",
       " 29: 'Malaria',\n",
       " 30: 'Migraine',\n",
       " 31: 'Osteoarthristis',\n",
       " 32: 'Paralysis (brain hemorrhage)',\n",
       " 33: 'Peptic ulcer diseae',\n",
       " 34: 'Pneumonia',\n",
       " 35: 'Psoriasis',\n",
       " 36: 'Tuberculosis',\n",
       " 37: 'Typhoid',\n",
       " 38: 'Urinary tract infection',\n",
       " 39: 'Varicose veins',\n",
       " 40: 'hepatitis A'}"
      ]
     },
     "execution_count": 39,
     "metadata": {},
     "output_type": "execute_result"
    }
   ],
   "source": [
    "encoded_mapping2"
   ]
  },
  {
   "cell_type": "code",
   "execution_count": 7,
   "metadata": {},
   "outputs": [
    {
     "data": {
      "text/plain": [
       "(161400,)"
      ]
     },
     "execution_count": 7,
     "metadata": {},
     "output_type": "execute_result"
    }
   ],
   "source": [
    "encoded_diseases.reshape(len(encoded_diseases),1)\n",
    "encoded_diseases.shape"
   ]
  },
  {
   "cell_type": "code",
   "execution_count": 8,
   "metadata": {},
   "outputs": [
    {
     "data": {
      "text/html": [
       "<div>\n",
       "<style scoped>\n",
       "    .dataframe tbody tr th:only-of-type {\n",
       "        vertical-align: middle;\n",
       "    }\n",
       "\n",
       "    .dataframe tbody tr th {\n",
       "        vertical-align: top;\n",
       "    }\n",
       "\n",
       "    .dataframe thead th {\n",
       "        text-align: right;\n",
       "    }\n",
       "</style>\n",
       "<table border=\"1\" class=\"dataframe\">\n",
       "  <thead>\n",
       "    <tr style=\"text-align: right;\">\n",
       "      <th></th>\n",
       "      <th>Disease</th>\n",
       "    </tr>\n",
       "  </thead>\n",
       "  <tbody>\n",
       "    <tr>\n",
       "      <th>0</th>\n",
       "      <td>0</td>\n",
       "    </tr>\n",
       "    <tr>\n",
       "      <th>1</th>\n",
       "      <td>0</td>\n",
       "    </tr>\n",
       "    <tr>\n",
       "      <th>2</th>\n",
       "      <td>0</td>\n",
       "    </tr>\n",
       "    <tr>\n",
       "      <th>3</th>\n",
       "      <td>0</td>\n",
       "    </tr>\n",
       "    <tr>\n",
       "      <th>4</th>\n",
       "      <td>0</td>\n",
       "    </tr>\n",
       "    <tr>\n",
       "      <th>...</th>\n",
       "      <td>...</td>\n",
       "    </tr>\n",
       "    <tr>\n",
       "      <th>161395</th>\n",
       "      <td>40</td>\n",
       "    </tr>\n",
       "    <tr>\n",
       "      <th>161396</th>\n",
       "      <td>40</td>\n",
       "    </tr>\n",
       "    <tr>\n",
       "      <th>161397</th>\n",
       "      <td>40</td>\n",
       "    </tr>\n",
       "    <tr>\n",
       "      <th>161398</th>\n",
       "      <td>40</td>\n",
       "    </tr>\n",
       "    <tr>\n",
       "      <th>161399</th>\n",
       "      <td>40</td>\n",
       "    </tr>\n",
       "  </tbody>\n",
       "</table>\n",
       "<p>161400 rows × 1 columns</p>\n",
       "</div>"
      ],
      "text/plain": [
       "        Disease\n",
       "0             0\n",
       "1             0\n",
       "2             0\n",
       "3             0\n",
       "4             0\n",
       "...         ...\n",
       "161395       40\n",
       "161396       40\n",
       "161397       40\n",
       "161398       40\n",
       "161399       40\n",
       "\n",
       "[161400 rows x 1 columns]"
      ]
     },
     "execution_count": 8,
     "metadata": {},
     "output_type": "execute_result"
    }
   ],
   "source": [
    "diseases_column = pd.DataFrame(encoded_diseases,columns=[\"Disease\"])\n",
    "diseases_column"
   ]
  },
  {
   "cell_type": "code",
   "execution_count": 9,
   "metadata": {},
   "outputs": [],
   "source": [
    "preprocessed_data = pd.concat([features, diseases_column],axis=1)"
   ]
  },
  {
   "cell_type": "code",
   "execution_count": 18,
   "metadata": {},
   "outputs": [],
   "source": [
    "#preprocessed_data.to_csv('preprocessed_data.csv',index=False)"
   ]
  },
  {
   "cell_type": "markdown",
   "metadata": {},
   "source": [
    "Get a model with BERT set up"
   ]
  },
  {
   "cell_type": "code",
   "execution_count": 10,
   "metadata": {},
   "outputs": [
    {
     "name": "stdout",
     "output_type": "stream",
     "text": [
      "WARNING:tensorflow:Please fix your imports. Module tensorflow.python.training.tracking.data_structures has been moved to tensorflow.python.trackable.data_structures. The old module will be deleted in version 2.11.\n"
     ]
    },
    {
     "name": "stderr",
     "output_type": "stream",
     "text": [
      "2022-10-02 19:55:21.575086: I tensorflow/core/platform/cpu_feature_guard.cc:193] This TensorFlow binary is optimized with oneAPI Deep Neural Network Library (oneDNN) to use the following CPU instructions in performance-critical operations:  AVX2 FMA\n",
      "To enable them in other operations, rebuild TensorFlow with the appropriate compiler flags.\n"
     ]
    }
   ],
   "source": [
    "bert_encoder = hub.KerasLayer(\"https://tfhub.dev/tensorflow/bert_en_uncased_L-12_H-768_A-12/2\", trainable=True)"
   ]
  },
  {
   "cell_type": "code",
   "execution_count": 11,
   "metadata": {},
   "outputs": [],
   "source": [
    "vocab_file = bert_encoder.resolved_object.vocab_file.asset_path.numpy()\n",
    "do_lower_case = bert_encoder.resolved_object.do_lower_case.numpy()\n",
    "tokenizer = tokenization.FullTokenizer(vocab_file, do_lower_case)\n",
    "\n",
    "def bert_encode(texts, tokenizer, max_len=512):\n",
    "    all_tokens = []\n",
    "    all_masks = []\n",
    "    all_segments = []\n",
    "    \n",
    "    for text in texts:\n",
    "        text = tokenizer.tokenize(text)\n",
    "            \n",
    "        text = text[:max_len-2]\n",
    "        input_sequence = [\"[CLS]\"] + text + [\"[SEP]\"]\n",
    "        pad_len = max_len - len(input_sequence)\n",
    "        \n",
    "        tokens = tokenizer.convert_tokens_to_ids(input_sequence) + [0] * pad_len\n",
    "        pad_masks = [1] * len(input_sequence) + [0] * pad_len\n",
    "        segment_ids = [0] * max_len\n",
    "        \n",
    "        all_tokens.append(tokens)\n",
    "        all_masks.append(pad_masks)\n",
    "        all_segments.append(segment_ids)\n",
    "    \n",
    "    return np.array(all_tokens), np.array(all_masks), np.array(all_segments)"
   ]
  },
  {
   "cell_type": "markdown",
   "metadata": {},
   "source": [
    "Split into Train and test data"
   ]
  },
  {
   "cell_type": "code",
   "execution_count": 12,
   "metadata": {},
   "outputs": [],
   "source": [
    "X_train, X_test, y_train, y_test = train_test_split(preprocessed_data[\"Sentence\"],preprocessed_data[\"Disease\"], stratify=None)"
   ]
  },
  {
   "cell_type": "code",
   "execution_count": 13,
   "metadata": {},
   "outputs": [],
   "source": [
    "max_len = 150\n",
    "train_input = bert_encode(X_train.values, tokenizer, max_len=max_len)\n",
    "test_input = bert_encode(X_test.values, tokenizer, max_len=max_len)\n",
    "train_labels = keras.utils.to_categorical(y_train.values, num_classes=41)"
   ]
  },
  {
   "cell_type": "markdown",
   "metadata": {},
   "source": [
    "Define a Model"
   ]
  },
  {
   "cell_type": "code",
   "execution_count": 33,
   "metadata": {},
   "outputs": [],
   "source": [
    "def model(metrics,bert_layer,max_len=512,):\n",
    "\n",
    "    input_word_ids = tf.keras.Input(shape=(max_len,), dtype=tf.int32, name=\"input_word_ids\")\n",
    "    input_mask = tf.keras.Input(shape=(max_len,), dtype=tf.int32, name=\"input_mask\")\n",
    "    segment_ids = tf.keras.Input(shape=(max_len,), dtype=tf.int32, name=\"segment_ids\")\n",
    "\n",
    "    pooled_output, sequence_output = bert_layer([input_word_ids, input_mask, segment_ids])\n",
    "    clf_output = sequence_output[:, 0, :]\n",
    "    net = tf.keras.layers.Dense(32, activation='relu')(clf_output)\n",
    "    net = tf.keras.layers.Dropout(0.2)(net)\n",
    "    out = tf.keras.layers.Dense(41, activation='softmax')(net)\n",
    "    \n",
    "    model = tf.keras.models.Model(inputs=[input_word_ids, input_mask, segment_ids], outputs=out)\n",
    "    model.compile(tf.keras.optimizers.Adam(lr=1e-5), loss='categorical_crossentropy', metrics=metrics)\n",
    "    \n",
    "    return model"
   ]
  },
  {
   "cell_type": "code",
   "execution_count": 34,
   "metadata": {},
   "outputs": [
    {
     "name": "stdout",
     "output_type": "stream",
     "text": [
      "Model: \"model_4\"\n",
      "__________________________________________________________________________________________________\n",
      " Layer (type)                   Output Shape         Param #     Connected to                     \n",
      "==================================================================================================\n",
      " input_word_ids (InputLayer)    [(None, 150)]        0           []                               \n",
      "                                                                                                  \n",
      " input_mask (InputLayer)        [(None, 150)]        0           []                               \n",
      "                                                                                                  \n",
      " segment_ids (InputLayer)       [(None, 150)]        0           []                               \n",
      "                                                                                                  \n",
      " keras_layer (KerasLayer)       [(None, 768),        109482241   ['input_word_ids[0][0]',         \n",
      "                                 (None, 150, 768)]                'input_mask[0][0]',             \n",
      "                                                                  'segment_ids[0][0]']            \n",
      "                                                                                                  \n",
      " tf.__operators__.getitem_4 (Sl  (None, 768)         0           ['keras_layer[4][1]']            \n",
      " icingOpLambda)                                                                                   \n",
      "                                                                                                  \n",
      " dense_12 (Dense)               (None, 32)           24608       ['tf.__operators__.getitem_4[0][0\n",
      "                                                                 ]']                              \n",
      "                                                                                                  \n",
      " dropout_8 (Dropout)            (None, 32)           0           ['dense_12[0][0]']               \n",
      "                                                                                                  \n",
      " dense_13 (Dense)               (None, 41)           1353        ['dropout_8[0][0]']              \n",
      "                                                                                                  \n",
      "==================================================================================================\n",
      "Total params: 109,508,202\n",
      "Trainable params: 109,508,201\n",
      "Non-trainable params: 1\n",
      "__________________________________________________________________________________________________\n"
     ]
    },
    {
     "name": "stderr",
     "output_type": "stream",
     "text": [
      "/Users/rohitkulkarni/opt/anaconda3/lib/python3.9/site-packages/keras/optimizers/optimizer_v2/adam.py:114: UserWarning: The `lr` argument is deprecated, use `learning_rate` instead.\n",
      "  super().__init__(name, **kwargs)\n"
     ]
    }
   ],
   "source": [
    "METRICS = [\n",
    "    tf.keras.metrics.BinaryAccuracy(name='accuracy'),\n",
    "      tf.keras.metrics.Precision(name='precision'),\n",
    "      tf.keras.metrics.Recall(name='recall')\n",
    "]\n",
    "\n",
    "bert_model = model(METRICS, bert_encoder, max_len=max_len)\n",
    "bert_model.summary()"
   ]
  },
  {
   "cell_type": "code",
   "execution_count": 16,
   "metadata": {},
   "outputs": [
    {
     "name": "stdout",
     "output_type": "stream",
     "text": [
      "Epoch 1/3\n",
      "  28/3027 [..............................] - ETA: 44:42:35 - loss: 3.7267 - accuracy: 0.9756 - precision: 0.0000e+00 - recall: 0.0000e+00"
     ]
    }
   ],
   "source": [
    "train_history = bert_model.fit(\n",
    "    train_input, train_labels, \n",
    "    validation_split=0.2,\n",
    "    epochs=3,\n",
    "    verbose=1\n",
    ")"
   ]
  },
  {
   "cell_type": "markdown",
   "metadata": {},
   "source": [
    "After training in google colab: https://colab.research.google.com/drive/1ZmIIuCl_a4xXyjhImgMgU5jcbEsF9R7a?usp=sharing\n",
    "\n",
    "\n",
    "Model loaded and evaluated in colab"
   ]
  },
  {
   "cell_type": "markdown",
   "metadata": {},
   "source": [
    "View training history over time"
   ]
  },
  {
   "cell_type": "code",
   "execution_count": null,
   "metadata": {},
   "outputs": [],
   "source": [
    "plt.plot(train_history.history['accuracy'])\n",
    "plt.plot(train_history.history['val_accuracy'])\n",
    "plt.title('Model Accuracy')\n",
    "plt.ylabel('accuracy')\n",
    "plt.xlabel('epoch')\n",
    "plt.legend(['train', 'test'], loc='upper left')\n",
    "plt.show()"
   ]
  },
  {
   "cell_type": "markdown",
   "metadata": {},
   "source": [
    "Check the loss of model over time"
   ]
  },
  {
   "cell_type": "code",
   "execution_count": null,
   "metadata": {},
   "outputs": [],
   "source": [
    "plt.plot(train_history.history['loss'])\n",
    "plt.plot(train_history.history['val_loss'])\n",
    "plt.title('Model Cost')\n",
    "plt.ylabel('Cost')\n",
    "plt.xlabel('epoch')\n",
    "plt.legend(['train', 'test'], loc='upper left')\n",
    "plt.show()"
   ]
  },
  {
   "cell_type": "code",
   "execution_count": 35,
   "metadata": {},
   "outputs": [
    {
     "data": {
      "text/plain": [
       "<tensorflow.python.checkpoint.checkpoint.CheckpointLoadStatus at 0x7fa4d7368b50>"
      ]
     },
     "execution_count": 35,
     "metadata": {},
     "output_type": "execute_result"
    }
   ],
   "source": [
    "weights_dir = \"./model_weights/bert_weights\"\n",
    "bert_model.load_weights(weights_dir)"
   ]
  }
 ],
 "metadata": {
  "kernelspec": {
   "display_name": "Python 3.9.12 ('base')",
   "language": "python",
   "name": "python3"
  },
  "language_info": {
   "codemirror_mode": {
    "name": "ipython",
    "version": 3
   },
   "file_extension": ".py",
   "mimetype": "text/x-python",
   "name": "python",
   "nbconvert_exporter": "python",
   "pygments_lexer": "ipython3",
   "version": "3.9.12"
  },
  "orig_nbformat": 4,
  "vscode": {
   "interpreter": {
    "hash": "d1ac76d35ee56195293cc6211a5ce28046b0a933cffd512b659c2d35988db783"
   }
  }
 },
 "nbformat": 4,
 "nbformat_minor": 2
}
