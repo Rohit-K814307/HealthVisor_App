{
  "cells": [
    {
      "cell_type": "code",
      "execution_count": null,
      "metadata": {
        "id": "u88I6DZ81Hji"
      },
      "outputs": [],
      "source": [
        "import pandas as pd\n",
        "import numpy as np\n",
        "import tensorflow as tf\n",
        "tf.gfile = tf.io.gfile\n",
        "import tensorflow_hub as hub\n",
        "from bert import tokenization\n",
        "from sklearn.utils import resample\n",
        "from sklearn.preprocessing import LabelEncoder\n",
        "from sklearn.metrics.pairwise import cosine_similarity\n",
        "from sklearn.model_selection import train_test_split\n",
        "import matplotlib.pyplot as plt\n",
        "from tensorflow import keras\n",
        "from official.nlp import optimization\n",
        "import os\n",
        "import tensorflow_text"
      ]
    },
    {
      "cell_type": "markdown",
      "metadata": {
        "id": "3sFr8pB62ol9"
      },
      "source": [
        "create model"
      ]
    },
    {
      "cell_type": "code",
      "execution_count": null,
      "metadata": {
        "id": "3gu2rmDY1MLg"
      },
      "outputs": [],
      "source": [
        "preprocessed_data = pd.read_csv(\"preprocess_data.csv\")"
      ]
    },
    {
      "cell_type": "code",
      "execution_count": null,
      "metadata": {
        "id": "1dUgxnFw7Trs"
      },
      "outputs": [],
      "source": [
        "X_train, X_test, y_train, y_test = train_test_split(preprocessed_data[\"Sentence\"],preprocessed_data[\"Disease\"], test_size=0.1,stratify=None)"
      ]
    },
    {
      "cell_type": "code",
      "execution_count": null,
      "metadata": {
        "id": "zxub1DlU26Qt"
      },
      "outputs": [],
      "source": [
        "train_labels = keras.utils.to_categorical(y_train.values, num_classes=41)\n",
        "test_labels = keras.utils.to_categorical(y_test.values, num_classes=41)"
      ]
    },
    {
      "cell_type": "code",
      "execution_count": null,
      "metadata": {
        "id": "4BkVDzLQ7SRB"
      },
      "outputs": [],
      "source": [
        "def model(metrics):\n",
        "\n",
        "    text_input = tf.keras.layers.Input(shape=(), dtype=tf.string)\n",
        "    preprocessor = hub.KerasLayer(\n",
        "        \"https://tfhub.dev/tensorflow/bert_en_uncased_preprocess/3\")\n",
        "    \n",
        "    encoder_inputs = preprocessor(text_input)\n",
        "    encoder = hub.KerasLayer(\n",
        "        \"https://tfhub.dev/tensorflow/bert_en_uncased_L-12_H-768_A-12/4\",\n",
        "        trainable=True)\n",
        "    \n",
        "    outputs = encoder(encoder_inputs)\n",
        "    pooled_output = outputs[\"pooled_output\"] \n",
        "    sequence_output = outputs[\"sequence_output\"]\n",
        "\n",
        "    clf_output = sequence_output[:, 0, :]\n",
        "    net = tf.keras.layers.Dense(32, activation='relu')(clf_output)\n",
        "    net = tf.keras.layers.Dropout(0.2)(net)\n",
        "    out = tf.keras.layers.Dense(41, activation='softmax')(net)\n",
        "    \n",
        "    model = tf.keras.models.Model(inputs=text_input, outputs=out)\n",
        "    model.compile(tf.keras.optimizers.Adam(lr=1e-5), loss='categorical_crossentropy', metrics=metrics)\n",
        "    \n",
        "    return model"
      ]
    },
    {
      "cell_type": "code",
      "execution_count": null,
      "metadata": {
        "colab": {
          "base_uri": "https://localhost:8080/"
        },
        "id": "9Mx-gWY_-ccf",
        "outputId": "26b83dd2-b9ba-4b78-a887-8e8053dca8f9"
      },
      "outputs": [
        {
          "name": "stdout",
          "output_type": "stream",
          "text": [
            "Model: \"model_1\"\n",
            "__________________________________________________________________________________________________\n",
            " Layer (type)                   Output Shape         Param #     Connected to                     \n",
            "==================================================================================================\n",
            " input_3 (InputLayer)           [(None,)]            0           []                               \n",
            "                                                                                                  \n",
            " keras_layer_4 (KerasLayer)     {'input_mask': (Non  0           ['input_3[0][0]']                \n",
            "                                e, 128),                                                          \n",
            "                                 'input_word_ids':                                                \n",
            "                                (None, 128),                                                      \n",
            "                                 'input_type_ids':                                                \n",
            "                                (None, 128)}                                                      \n",
            "                                                                                                  \n",
            " keras_layer_5 (KerasLayer)     {'sequence_output':  109482241   ['keras_layer_4[0][0]',          \n",
            "                                 (None, 128, 768),                'keras_layer_4[0][1]',          \n",
            "                                 'encoder_outputs':               'keras_layer_4[0][2]']          \n",
            "                                 [(None, 128, 768),                                               \n",
            "                                 (None, 128, 768),                                                \n",
            "                                 (None, 128, 768),                                                \n",
            "                                 (None, 128, 768),                                                \n",
            "                                 (None, 128, 768),                                                \n",
            "                                 (None, 128, 768),                                                \n",
            "                                 (None, 128, 768),                                                \n",
            "                                 (None, 128, 768),                                                \n",
            "                                 (None, 128, 768),                                                \n",
            "                                 (None, 128, 768),                                                \n",
            "                                 (None, 128, 768),                                                \n",
            "                                 (None, 128, 768)],                                               \n",
            "                                 'pooled_output': (                                               \n",
            "                                None, 768),                                                       \n",
            "                                 'default': (None,                                                \n",
            "                                768)}                                                             \n",
            "                                                                                                  \n",
            " tf.__operators__.getitem_1 (Sl  (None, 768)         0           ['keras_layer_5[0][14]']         \n",
            " icingOpLambda)                                                                                   \n",
            "                                                                                                  \n",
            " dense_2 (Dense)                (None, 32)           24608       ['tf.__operators__.getitem_1[0][0\n",
            "                                                                 ]']                              \n",
            "                                                                                                  \n",
            " dropout_1 (Dropout)            (None, 32)           0           ['dense_2[0][0]']                \n",
            "                                                                                                  \n",
            " dense_3 (Dense)                (None, 41)           1353        ['dropout_1[0][0]']              \n",
            "                                                                                                  \n",
            "==================================================================================================\n",
            "Total params: 109,508,202\n",
            "Trainable params: 109,508,201\n",
            "Non-trainable params: 1\n",
            "__________________________________________________________________________________________________\n"
          ]
        },
        {
          "name": "stderr",
          "output_type": "stream",
          "text": [
            "/usr/local/lib/python3.7/dist-packages/keras/optimizers/optimizer_v2/adam.py:114: UserWarning: The `lr` argument is deprecated, use `learning_rate` instead.\n",
            "  super().__init__(name, **kwargs)\n"
          ]
        }
      ],
      "source": [
        "METRICS = [\n",
        "    tf.keras.metrics.BinaryAccuracy(name='accuracy'),\n",
        "      tf.keras.metrics.Precision(name='precision'),\n",
        "      tf.keras.metrics.Recall(name='recall')\n",
        "]\n",
        "\n",
        "bert_model = model(METRICS)\n",
        "bert_model.summary()"
      ]
    },
    {
      "cell_type": "markdown",
      "metadata": {
        "id": "7jWRHq-m-2x9"
      },
      "source": [
        "Train Model"
      ]
    },
    {
      "cell_type": "code",
      "execution_count": null,
      "metadata": {
        "colab": {
          "base_uri": "https://localhost:8080/"
        },
        "id": "qjqT48Oy-2Wl",
        "outputId": "7637bacb-d118-44d7-9ae4-b45e2add43d9"
      },
      "outputs": [
        {
          "name": "stdout",
          "output_type": "stream",
          "text": [
            "Epoch 1/3\n",
            "3632/3632 [==============================] - 3401s 933ms/step - loss: 0.4744 - accuracy: 0.9947 - precision: 0.9593 - recall: 0.8154 - val_loss: 0.1543 - val_accuracy: 0.9978 - val_precision: 0.9650 - val_recall: 0.9423\n",
            "Epoch 2/3\n",
            "3632/3632 [==============================] - 3382s 931ms/step - loss: 0.2025 - accuracy: 0.9973 - precision: 0.9658 - recall: 0.9227 - val_loss: 0.1396 - val_accuracy: 0.9978 - val_precision: 0.9660 - val_recall: 0.9445\n",
            "Epoch 3/3\n",
            "3632/3632 [==============================] - 3371s 928ms/step - loss: 0.1672 - accuracy: 0.9976 - precision: 0.9686 - recall: 0.9339 - val_loss: 0.1223 - val_accuracy: 0.9980 - val_precision: 0.9668 - val_recall: 0.9486\n"
          ]
        }
      ],
      "source": [
        "train_history = bert_model.fit(\n",
        "    X_train, train_labels, \n",
        "    validation_split=0.2,\n",
        "    epochs=3,\n",
        "    verbose=1\n",
        ")"
      ]
    },
    {
      "cell_type": "code",
      "execution_count": null,
      "metadata": {
        "id": "SBaXHtBmFmTJ"
      },
      "outputs": [],
      "source": [
        "bert_model.save_weights('bert_weights')"
      ]
    },
    {
      "cell_type": "code",
      "execution_count": null,
      "metadata": {
        "id": "FmJkFWy-hsd2"
      },
      "outputs": [],
      "source": [
        "saver = tf.train.Saver(tf())"
      ]
    }
  ],
  "metadata": {
    "accelerator": "GPU",
    "colab": {
      "provenance": []
    },
    "kernelspec": {
      "display_name": "Python 3.9.12 ('base')",
      "language": "python",
      "name": "python3"
    },
    "language_info": {
      "name": "python",
      "version": "3.9.12"
    },
    "vscode": {
      "interpreter": {
        "hash": "d1ac76d35ee56195293cc6211a5ce28046b0a933cffd512b659c2d35988db783"
      }
    }
  },
  "nbformat": 4,
  "nbformat_minor": 0
}
