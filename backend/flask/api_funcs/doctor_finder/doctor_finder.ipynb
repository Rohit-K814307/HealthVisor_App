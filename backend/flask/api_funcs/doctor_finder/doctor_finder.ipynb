{
 "cells": [
  {
   "cell_type": "code",
   "execution_count": 117,
   "metadata": {},
   "outputs": [],
   "source": [
    "import requests"
   ]
  },
  {
   "cell_type": "code",
   "execution_count": 118,
   "metadata": {},
   "outputs": [],
   "source": [
    "def get_auth_code(client_id,client_secret):\n",
    "    params = {\n",
    "    'app_user_id': 'rohitk',\n",
    "    'client_id': client_id,\n",
    "    'client_secret': client_secret,\n",
    "    }\n",
    "\n",
    "    response = requests.post('https://api.1up.health/user-management/v1/user/auth-code', params=params).json()\n",
    "\n",
    "    return response.get(\"code\")"
   ]
  },
  {
   "cell_type": "code",
   "execution_count": 119,
   "metadata": {},
   "outputs": [],
   "source": [
    "def get_access_code(client_id,client_secret,auth_code):\n",
    "\n",
    "    data = {\n",
    "        'client_id': client_id,\n",
    "        'client_secret': client_secret,\n",
    "        'code': auth_code,\n",
    "        'grant_type': 'authorization_code',\n",
    "    }\n",
    "\n",
    "    response = requests.post('https://auth.1up.health/oauth2/token', data=data).json()\n",
    "\n",
    "    return response.get(\"refresh_token\"), response.get(\"access_token\")"
   ]
  },
  {
   "cell_type": "code",
   "execution_count": 120,
   "metadata": {},
   "outputs": [],
   "source": [
    "def refresh_access_code(client_id,client_secret,refresh_token):\n",
    "    data = {\n",
    "    'client_id': client_id,\n",
    "    'client_secret': client_secret,\n",
    "    'refresh_token': refresh_token,\n",
    "    'grant_type': 'refresh_token',\n",
    "    }\n",
    "\n",
    "    response = requests.post('https://auth.1up.health/oauth2/token', data=data).json()\n",
    "\n",
    "    return response.get(\"refresh_token\"), response.get(\"access_token\")"
   ]
  },
  {
   "cell_type": "code",
   "execution_count": 121,
   "metadata": {},
   "outputs": [],
   "source": [
    "def get_total_data(access_token):\n",
    "    url = \"https://api.1up.health/fhir/dstu2/Practitioner?_public=true\"\n",
    "\n",
    "    payload={}\n",
    "    headers = {\n",
    "        'Authorization': 'Bearer ' + access_token\n",
    "    }\n",
    "\n",
    "    response = requests.request(\"GET\", url, headers=headers, data=payload)\n",
    "\n",
    "    return response.json()"
   ]
  },
  {
   "cell_type": "code",
   "execution_count": 70,
   "metadata": {},
   "outputs": [],
   "source": [
    "client_id = \"a4a19da1027bd432223f91d328c6b4b0\"\n",
    "client_secret = \"f2662a1b883f3020cef61d5b5c51fa7e\"\n",
    "\n",
    "authorization = get_auth_code(client_id,client_secret)\n",
    "refresh_token, access_token = get_access_code(client_id,client_secret,authorization)\n",
    "data = get_total_data(access_token)"
   ]
  },
  {
   "cell_type": "code",
   "execution_count": 75,
   "metadata": {},
   "outputs": [
    {
     "data": {
      "text/plain": [
       "{'fullUrl': 'https://api.1up.health/dstu2/Practitioner/0a73cf642dc9',\n",
       " 'search': {'mode': 'match'},\n",
       " 'resource': {'identifier': [{'value': 'SH4046472',\n",
       "    'use': 'official',\n",
       "    'system': 'Medicare ID-Type Unspecified OH'},\n",
       "   {'value': '1699702266',\n",
       "    'use': 'official',\n",
       "    'system': 'https://nppes.cms.hhs.gov'},\n",
       "   {'value': 'kjsdbchadsbhabdjvhbjhvf',\n",
       "    'use': 'usual',\n",
       "    'system': 'https://open-ic.epic.com/FHIR/api/FHIR/DSTU2'}],\n",
       "  'meta': {'lastUpdated': '2020-10-05T01:23:17.884Z',\n",
       "   'versionId': '9000000000000'},\n",
       "  'address': [{'country': 'US',\n",
       "    'state': 'Oh',\n",
       "    'city': 'Andover',\n",
       "    'use': 'work',\n",
       "    'line': ['10 Public Square']}],\n",
       "  'name': {'given': ['Louise', 'V'],\n",
       "   'suffix': ['OTR/L'],\n",
       "   'family': ['Sheridan'],\n",
       "   'use': 'official'},\n",
       "  'gender': 'female',\n",
       "  'practitionerRole': [{'specialty': [{'coding': [{'code': '225X00000X',\n",
       "        'system': 'http://nucc.org/provider-taxonomy',\n",
       "        'display': 'An occupational therapist is a person who has graduated from an entry-level occupational therapy program accredited by t...'}]}],\n",
       "    'role': {'coding': [{'code': '225X00000X',\n",
       "       'system': 'http://nucc.org/provider-taxonomy',\n",
       "       'display': 'Occupational Therapist'}]}}],\n",
       "  'active': True,\n",
       "  'resourceType': 'Practitioner',\n",
       "  'telecom': [{'value': '4402934670', 'use': 'work', 'system': 'fax'},\n",
       "   {'value': '4402934420', 'use': 'work', 'system': 'phone'}],\n",
       "  'id': '0a73cf642dc9'}}"
      ]
     },
     "execution_count": 75,
     "metadata": {},
     "output_type": "execute_result"
    }
   ],
   "source": [
    "data.get('entry')[1]"
   ]
  },
  {
   "cell_type": "code",
   "execution_count": 161,
   "metadata": {},
   "outputs": [],
   "source": [
    "def query_data(city, state,practitionerRole):\n",
    "\n",
    "    client_id = \"a4a19da1027bd432223f91d328c6b4b0\"\n",
    "    client_secret = \"f2662a1b883f3020cef61d5b5c51fa7e\"\n",
    "\n",
    "    authorization = get_auth_code(client_id,client_secret)\n",
    "    refresh_token, access_token = get_access_code(client_id,client_secret,authorization)\n",
    "    data = get_total_data(access_token)\n",
    "\n",
    "    #print(\"data found\")\n",
    "    \n",
    "    responseValue = {\"response\":[]}\n",
    "\n",
    "    for practitioner in data.get(\"entry\"):\n",
    "\n",
    "        #print('looping through practitioner')\n",
    "        \n",
    "        out = {}\n",
    "\n",
    "        if 'resource' in list(practitioner.keys()):\n",
    "            if 'address' in list(practitioner.get('resource').keys()):\n",
    "                \n",
    "                #print(\"address found\")\n",
    "\n",
    "                if 'state' in list(practitioner.get('resource').get('address')[0].keys()) and 'city' in list(practitioner.get('resource').get('address')[0].keys()):\n",
    "                    \n",
    "                    #print(\"state found\")\n",
    "                    \n",
    "                    stateVal = practitioner.get('resource').get('address')[0].get('state')\n",
    "                    cityVal = practitioner.get('resource').get('address')[0].get('city')\n",
    "\n",
    "                    out['city'] = cityVal\n",
    "                    out['state'] = stateVal\n",
    "\n",
    "                if 'line' in list(practitioner.get('resource').get('address')[0].keys()):\n",
    "                    \n",
    "                    #print(\"line found\")\n",
    "\n",
    "                    roadAddress = practitioner.get('resource').get('address')[0].get('line')[0]\n",
    "\n",
    "                    out['roadAdress'] = roadAddress\n",
    "\n",
    "            if 'name' in list(practitioner.get('resource').keys()):\n",
    "                \n",
    "\n",
    "                #print(\"name found\")\n",
    "                \n",
    "                if len(practitioner.get('resource').get('name').get(\"given\")) > 1:\n",
    "\n",
    "                    nameVal = str(practitioner.get('resource').get('name').get(\"given\")[0]) + \" \" + str(practitioner.get('resource').get('name').get(\"given\")[1]) + \" \" + str(practitioner.get('resource').get('name').get(\"family\")[0])\n",
    "                    \n",
    "                else:\n",
    "                    nameVal = str(practitioner.get('resource').get('name').get(\"given\")) + \" \" + str(practitioner.get('resource').get('name').get(\"family\")[0])\n",
    "                \n",
    "\n",
    "                \n",
    "\n",
    "                if \"suffix\" in list(practitioner.get('resource').get('name').keys()):\n",
    "                    nameVal += \" \" + practitioner.get('resource').get('name').get(\"suffix\")[0]\n",
    "                \n",
    "\n",
    "                if \"[\" in nameVal:\n",
    "                    nameVal = nameVal.replace(\"[\", \"\")\n",
    "                if \"]\" in nameVal:\n",
    "                    nameVal = nameVal.replace(\"]\", \"\")\n",
    "                if \"\\'\" in nameVal:\n",
    "                    nameVal = nameVal.replace(\"\\'\",\"\")\n",
    "                \n",
    "                out[\"name\"] = nameVal\n",
    "\n",
    "\n",
    "            if 'practitionerRole' in list(practitioner.get('resource').keys()):\n",
    "                if 'display' in list(practitioner.get('resource').get('practitionerRole')[0].get('role').get('coding')[0].keys()):\n",
    "                    \n",
    "\n",
    "                    #print(\"role found\")\n",
    "\n",
    "                    role = practitioner.get('resource').get('practitionerRole')[0].get('role').get('coding')[0].get('display')\n",
    "                    \n",
    "                    out['role'] = role\n",
    "\n",
    "\n",
    "        responseValue['response'].append(out)\n",
    "\n",
    "\n",
    "    newResponse = {\"response\":[]}\n",
    "\n",
    "    for entry in responseValue.get(\"response\"):\n",
    "        \n",
    "        if city in entry.get('city') and state in entry.get('state') and practitionerRole in entry.get('role'):\n",
    "            \n",
    "            #print(entry)\n",
    "            newResponse['response'].append(entry)\n",
    "        \n",
    "        \n",
    "    return newResponse"
   ]
  },
  {
   "cell_type": "code",
   "execution_count": 162,
   "metadata": {},
   "outputs": [
    {
     "data": {
      "text/plain": [
       "{'response': [{'city': 'Toledo',\n",
       "   'state': 'Oh',\n",
       "   'roadAdress': '4126 N Holland Sylvania Rd',\n",
       "   'name': 'Rashid Khalil M.D.',\n",
       "   'role': 'Anesthesiology'}]}"
      ]
     },
     "execution_count": 162,
     "metadata": {},
     "output_type": "execute_result"
    }
   ],
   "source": [
    "query_data(\"Toledo\",\"Oh\",'Anesthesiology')"
   ]
  },
  {
   "cell_type": "code",
   "execution_count": 163,
   "metadata": {},
   "outputs": [],
   "source": [
    "dog = \"Bo\""
   ]
  },
  {
   "cell_type": "code",
   "execution_count": 165,
   "metadata": {},
   "outputs": [
    {
     "data": {
      "text/plain": [
       "'B'"
      ]
     },
     "execution_count": 165,
     "metadata": {},
     "output_type": "execute_result"
    }
   ],
   "source": [
    "dog[0:-1]"
   ]
  }
 ],
 "metadata": {
  "kernelspec": {
   "display_name": "Python 3.9.12 ('base')",
   "language": "python",
   "name": "python3"
  },
  "language_info": {
   "codemirror_mode": {
    "name": "ipython",
    "version": 3
   },
   "file_extension": ".py",
   "mimetype": "text/x-python",
   "name": "python",
   "nbconvert_exporter": "python",
   "pygments_lexer": "ipython3",
   "version": "3.9.12"
  },
  "orig_nbformat": 4,
  "vscode": {
   "interpreter": {
    "hash": "d1ac76d35ee56195293cc6211a5ce28046b0a933cffd512b659c2d35988db783"
   }
  }
 },
 "nbformat": 4,
 "nbformat_minor": 2
}
